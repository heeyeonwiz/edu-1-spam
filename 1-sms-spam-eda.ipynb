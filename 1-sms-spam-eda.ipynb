{
 "cells": [
  {
   "cell_type": "markdown",
   "metadata": {},
   "source": [
    "# I. 영어 스팸 문자 데이터 탐색적 분석(EDA)"
   ]
  },
  {
   "cell_type": "markdown",
   "metadata": {},
   "source": [
    "---\n",
    "### 1) 데이터 로드 : dataframe (pandas module 사용)  \n",
    "https://www.kaggle.com/uciml/sms-spam-collection-dataset  \n",
    "train과 test가 별도로 나누어 지지 않았고, spam.csv 하나만 있다."
   ]
  },
  {
   "cell_type": "code",
   "execution_count": null,
   "metadata": {},
   "outputs": [],
   "source": [
    "import warnings\n",
    "warnings.simplefilter(action='ignore', category=FutureWarning) # 경고 메시지 안보이게 설정\n",
    "\n",
    "import gc\n",
    "gc.collect() # garbage collector : 메모리 관리"
   ]
  },
  {
   "cell_type": "code",
   "execution_count": null,
   "metadata": {},
   "outputs": [],
   "source": [
    "import os"
   ]
  },
  {
   "cell_type": "markdown",
   "metadata": {},
   "source": [
    "---\n",
    "전역 변수 중 일부(디렉토리 이름과 파일 이름 등)는 대문자로  \n",
    "나머지 변수는 소문자로"
   ]
  },
  {
   "cell_type": "code",
   "execution_count": null,
   "metadata": {},
   "outputs": [],
   "source": [
    "# 파일 경로는 단순히 문자열 연결보다는 os.path.join()을 사용하는 것이 좋음 \n",
    "DATA_DIR = 'data'\n",
    "RAW_DATA_FILE = 'spam.csv'\n",
    "RAW_DATA_PATH = os.path.join(DATA_DIR, RAW_DATA_FILE)"
   ]
  },
  {
   "cell_type": "code",
   "execution_count": null,
   "metadata": {},
   "outputs": [],
   "source": [
    "import pandas as pd"
   ]
  },
  {
   "cell_type": "code",
   "execution_count": null,
   "metadata": {},
   "outputs": [],
   "source": [
    "raw_df = pd.read_csv(RAW_DATA_PATH, encoding='latin-1')"
   ]
  },
  {
   "cell_type": "code",
   "execution_count": null,
   "metadata": {},
   "outputs": [],
   "source": [
    "raw_df.shape"
   ]
  },
  {
   "cell_type": "code",
   "execution_count": null,
   "metadata": {},
   "outputs": [],
   "source": [
    "raw_df.head()"
   ]
  },
  {
   "cell_type": "code",
   "execution_count": null,
   "metadata": {},
   "outputs": [],
   "source": [
    "raw_df.drop(['Unnamed: 2', 'Unnamed: 3', 'Unnamed: 4'],axis=1,inplace=True)"
   ]
  },
  {
   "cell_type": "code",
   "execution_count": null,
   "metadata": {},
   "outputs": [],
   "source": [
    "raw_df.head()"
   ]
  },
  {
   "cell_type": "code",
   "execution_count": null,
   "metadata": {},
   "outputs": [],
   "source": [
    "raw_df.info()"
   ]
  },
  {
   "cell_type": "code",
   "execution_count": null,
   "metadata": {},
   "outputs": [],
   "source": [
    "raw_df.describe()"
   ]
  },
  {
   "cell_type": "markdown",
   "metadata": {},
   "source": [
    "---\n",
    "### 2) 결측 데이터 처리"
   ]
  },
  {
   "cell_type": "code",
   "execution_count": null,
   "metadata": {},
   "outputs": [],
   "source": [
    "print(raw_df.isnull().values.any())\n",
    "print(raw_df.isnull().sum())\n",
    "raw_df.isnull().sum()[raw_df.isnull().sum().values > 0]\n",
    "\n",
    "# 결측 데이터 없음."
   ]
  },
  {
   "cell_type": "markdown",
   "metadata": {},
   "source": [
    "---\n",
    "### 3) 중복 데이터 제거"
   ]
  },
  {
   "cell_type": "code",
   "execution_count": null,
   "metadata": {},
   "outputs": [],
   "source": [
    "duplicated_row = raw_df[raw_df.duplicated('v2')]\n",
    "print(duplicated_row[:5])\n",
    "# duplicatedRow\n",
    "len(duplicated_row)"
   ]
  },
  {
   "cell_type": "code",
   "execution_count": null,
   "metadata": {},
   "outputs": [],
   "source": [
    "raw_df.groupby('v1').describe().T"
   ]
  },
  {
   "cell_type": "code",
   "execution_count": null,
   "metadata": {},
   "outputs": [],
   "source": [
    "dedupe_raw_df = raw_df.drop_duplicates('v2', keep='first')"
   ]
  },
  {
   "cell_type": "code",
   "execution_count": null,
   "metadata": {},
   "outputs": [],
   "source": [
    "duplicated_row_dedupe = dedupe_raw_df[dedupe_raw_df.duplicated('v2')]\n",
    "print(duplicated_row_dedupe[:5])\n",
    "# duplicatedRow\n",
    "len(duplicated_row_dedupe)"
   ]
  },
  {
   "cell_type": "code",
   "execution_count": null,
   "metadata": {},
   "outputs": [],
   "source": [
    "dedupe_raw_df.shape"
   ]
  },
  {
   "cell_type": "markdown",
   "metadata": {},
   "source": [
    "---\n",
    "### 4) EDA (Exploratory Data Analysis; 탐색적 데이터 분석)"
   ]
  },
  {
   "cell_type": "code",
   "execution_count": null,
   "metadata": {},
   "outputs": [],
   "source": [
    "from collections import Counter #데이터 전처리\n",
    "\n",
    "Counter(dedupe_raw_df['v1'])"
   ]
  },
  {
   "cell_type": "code",
   "execution_count": null,
   "metadata": {},
   "outputs": [],
   "source": [
    "print(653/4516)\n",
    "print(653/(653 + 4516))"
   ]
  },
  {
   "cell_type": "code",
   "execution_count": null,
   "metadata": {},
   "outputs": [],
   "source": [
    "import matplotlib.pyplot as plt\n",
    "import seaborn as sns"
   ]
  },
  {
   "cell_type": "code",
   "execution_count": null,
   "metadata": {},
   "outputs": [],
   "source": [
    "# spam과 ham의 수를 막대 그래프로 비교\n",
    "\n",
    "fig, axe = plt.subplots(ncols=1)\n",
    "fig.set_size_inches(6, 3)\n",
    "sns.countplot(dedupe_raw_df['v1'])"
   ]
  },
  {
   "cell_type": "markdown",
   "metadata": {},
   "source": [
    "---\n",
    "(가) 문장의 길이(글자수) 분포 조사"
   ]
  },
  {
   "cell_type": "code",
   "execution_count": null,
   "metadata": {},
   "outputs": [],
   "source": [
    "# 메시지의 길이(글자 수)가 어떤 값들을 갖는지 분석\n",
    "raw_length = dedupe_raw_df['v2'].apply(len)\n",
    "\n",
    "raw_length.head()"
   ]
  },
  {
   "cell_type": "code",
   "execution_count": null,
   "metadata": {},
   "outputs": [],
   "source": [
    "dedupe_raw_df['v2'][0]"
   ]
  },
  {
   "cell_type": "code",
   "execution_count": null,
   "metadata": {},
   "outputs": [],
   "source": [
    "raw_length.describe()"
   ]
  },
  {
   "cell_type": "code",
   "execution_count": null,
   "metadata": {},
   "outputs": [],
   "source": [
    "import numpy as np\n",
    "\n",
    "print('문자 길이 최대 값: {}'.format(np.max(raw_length)))\n",
    "print('문자 길이 최소 값: {}'.format(np.min(raw_length)))\n",
    "print('문자 길이 평균 값: {:.2f}'.format(np.mean(raw_length)))\n",
    "print('문자 길이 표준편차: {:.2f}'.format(np.std(raw_length)))\n",
    "print('문자 길이 중간 값: {}'.format(np.median(raw_length)))\n",
    "# 사분위의 대한 경우는 0~100 스케일로 되어있음\n",
    "print('문자 길이 제 1 사분위: {}'.format(np.percentile(raw_length, 25))) # nanpercentile()을 쓰면 NaN 값이 있을 때도 에러 안남.\n",
    "print('문자 길이 제 3 사분위: {}'.format(np.percentile(raw_length, 75))) # nanpercentile()을 쓰면 NaN 값이 있을 때도 에러 안남."
   ]
  },
  {
   "cell_type": "code",
   "execution_count": null,
   "metadata": {},
   "outputs": [],
   "source": [
    "# 그래프에 대한 이미지 사이즈 선언\n",
    "# figsize: (가로, 세로) 형태의 튜플로 입력\n",
    "plt.figure(figsize=(12, 5))\n",
    "# 히스토그램 선언\n",
    "# bins: 히스토그램 값들에 대한 버켓 범위\n",
    "# range: x축 값의 범위\n",
    "# alpha: 그래프 색상 투명도\n",
    "# color: 그래프 색상\n",
    "# label: 그래프에 대한 라벨\n",
    "plt.hist(raw_length, bins=200, facecolor='r', label='# of char')\n",
    "plt.yscale('log', nonpositive='clip')\n",
    "plt.legend()\n",
    "# 그래프 제목\n",
    "plt.title('Log-Histogram of length of text')\n",
    "# 그래프 x 축 라벨\n",
    "plt.xlabel('Length of text')\n",
    "# 그래프 y 축 라벨\n",
    "plt.ylabel('Number of text')"
   ]
  },
  {
   "cell_type": "code",
   "execution_count": null,
   "metadata": {},
   "outputs": [],
   "source": [
    "plt.figure(figsize=(12, 5))\n",
    "# 박스플롯 생성\n",
    "# 첫번째 파라메터: 여러 분포에 대한 데이터 리스트를 입력\n",
    "# labels: 입력한 데이터에 대한 라벨\n",
    "# showmeans: 평균값을 마크함\n",
    "\n",
    "plt.boxplot(raw_length,\n",
    "             labels=['counts'],\n",
    "             showmeans=True)"
   ]
  },
  {
   "cell_type": "markdown",
   "metadata": {},
   "source": [
    "---\n",
    "#### (나) 단어 수 분포 조사  "
   ]
  },
  {
   "cell_type": "code",
   "execution_count": null,
   "metadata": {},
   "outputs": [],
   "source": [
    "# 영문 데이터이므로 비칸을 기준으로 토크나이즈하고 카운팅\n",
    "raw_word_counts = dedupe_raw_df['v2'].apply(lambda x:len(x.split(' ')))"
   ]
  },
  {
   "cell_type": "code",
   "execution_count": null,
   "metadata": {},
   "outputs": [],
   "source": [
    "raw_word_counts.head()"
   ]
  },
  {
   "cell_type": "code",
   "execution_count": null,
   "metadata": {},
   "outputs": [],
   "source": [
    "raw_word_counts.describe()"
   ]
  },
  {
   "cell_type": "code",
   "execution_count": null,
   "metadata": {},
   "outputs": [],
   "source": [
    "print('문자 단어 개수 최대 값: {}'.format(np.max(raw_word_counts)))\n",
    "print('문자 단어 개수 최소 값: {}'.format(np.min(raw_word_counts)))\n",
    "print('문자 단어 개수 평균 값: {:.2f}'.format(np.mean(raw_word_counts)))\n",
    "print('문자 단어 개수 표준편차: {:.2f}'.format(np.std(raw_word_counts)))\n",
    "print('문자 단어 개수 중간 값: {}'.format(np.median(raw_word_counts)))\n",
    "# 사분위의 대한 경우는 0~100 스케일로 되어있음\n",
    "print('문자 단어 개수 제 1 사분위: {}'.format(np.percentile(raw_word_counts, 25)))\n",
    "print('문자 단어 개수 제 3 사분위: {}'.format(np.percentile(raw_word_counts, 75)))"
   ]
  },
  {
   "cell_type": "code",
   "execution_count": null,
   "metadata": {},
   "outputs": [],
   "source": [
    "plt.figure(figsize=(12, 5))\n",
    "plt.hist(raw_word_counts, range=(1, 172), bins=171, facecolor='r', label='# of words')\n",
    "plt.title('Log-Histogram of word count in text', fontsize=15)\n",
    "plt.yscale('log', nonpositive='clip')\n",
    "plt.legend()\n",
    "plt.xlabel('Number of words', fontsize=15)\n",
    "plt.ylabel('Number of text', fontsize=15)"
   ]
  },
  {
   "cell_type": "code",
   "execution_count": null,
   "metadata": {},
   "outputs": [],
   "source": [
    "qmarks = np.mean(dedupe_raw_df['v2'].apply(lambda x: '?' in x)) # 물음표가 구두점으로 쓰임\n",
    "fullstop = np.mean(dedupe_raw_df['v2'].apply(lambda x: '.' in x)) # 마침표\n",
    "capital_first = np.mean(dedupe_raw_df['v2'].apply(lambda x: x[0].isupper())) #  첫번째 대문자\n",
    "capitals = np.mean(dedupe_raw_df['v2'].apply(lambda x: max([y.isupper() for y in x]))) # 대문자가 몇개\n",
    "numbers = np.mean(dedupe_raw_df['v2'].apply(lambda x: max([y.isdigit() for y in x]))) # 숫자가 몇개\n",
    "                  \n",
    "print('물음표가 있는 문장: {:.2f}%'.format(qmarks * 100))\n",
    "print('마침표가 있는 문장: {:.2f}%'.format(fullstop * 100))\n",
    "print('첫 글자가 대문자 인 문장: {:.2f}%'.format(capital_first * 100))\n",
    "print('대문자가 있는 문장: {:.2f}%'.format(capitals * 100))\n",
    "print('숫자가 있는 문장: {:.2f}%'.format(numbers * 100))"
   ]
  },
  {
   "cell_type": "markdown",
   "metadata": {},
   "source": [
    "---\n",
    "### 5) 워드 클라우드 표시"
   ]
  },
  {
   "cell_type": "code",
   "execution_count": null,
   "metadata": {},
   "outputs": [],
   "source": [
    "# Get all the ham and spam\n",
    "ham_msg = dedupe_raw_df[dedupe_raw_df.v1 == 'ham']\n",
    "spam_msg = dedupe_raw_df[dedupe_raw_df.v1 == 'spam']"
   ]
  },
  {
   "cell_type": "code",
   "execution_count": null,
   "metadata": {},
   "outputs": [],
   "source": [
    "# 전체 문장을 모두 이어 붙임.\n",
    "\n",
    "# print(pd.__version__) 버전이 0.24.1 이상이면 아래와 같이 사용 가능\n",
    "# spam_msg_text = \" \".join(spam_msg.v2.to_numpy().tolist())\n",
    "\n",
    "# 버전이 0.24.1 보다 낮으면 아래와 같이 사용\n",
    "\n",
    "# Create numpy list to visualize using wordcloud\n",
    "ham_msg_text = \" \".join(np.array(ham_msg.v2).tolist())\n",
    "spam_msg_text = \" \".join(np.array(spam_msg.v2).tolist())"
   ]
  },
  {
   "cell_type": "code",
   "execution_count": null,
   "metadata": {},
   "outputs": [],
   "source": [
    "# !pip install wordcloud"
   ]
  },
  {
   "cell_type": "code",
   "execution_count": null,
   "metadata": {},
   "outputs": [],
   "source": [
    "from wordcloud import WordCloud, STOPWORDS"
   ]
  },
  {
   "cell_type": "code",
   "execution_count": null,
   "metadata": {},
   "outputs": [],
   "source": [
    "# wordcloud of ham messages\n",
    "ham_msg_cloud = WordCloud(width =520, height =260, stopwords=STOPWORDS, max_font_size=50, background_color =\"black\", colormap='Blues').generate(ham_msg_text)\n",
    "plt.figure(figsize=(16,10))\n",
    "plt.imshow(ham_msg_cloud, interpolation='bilinear')\n",
    "plt.axis('off') # turn off axis\n",
    "plt.show()"
   ]
  },
  {
   "cell_type": "code",
   "execution_count": null,
   "metadata": {},
   "outputs": [],
   "source": [
    "# wordcloud of spam messages\n",
    "spam_msg_cloud = WordCloud(width =520, height =260, stopwords=STOPWORDS, max_font_size=50, background_color =\"black\", colormap='Blues').generate(spam_msg_text)\n",
    "plt.figure(figsize=(16,10))\n",
    "plt.imshow(spam_msg_cloud, interpolation='bilinear')\n",
    "plt.axis('off') # turn off axis\n",
    "plt.show()"
   ]
  },
  {
   "cell_type": "code",
   "execution_count": null,
   "metadata": {},
   "outputs": [],
   "source": []
  }
 ],
 "metadata": {
  "kernelspec": {
   "display_name": "Python 3",
   "language": "python",
   "name": "python3"
  },
  "language_info": {
   "codemirror_mode": {
    "name": "ipython",
    "version": 3
   },
   "file_extension": ".py",
   "mimetype": "text/x-python",
   "name": "python",
   "nbconvert_exporter": "python",
   "pygments_lexer": "ipython3",
   "version": "3.7.7"
  }
 },
 "nbformat": 4,
 "nbformat_minor": 4
}
